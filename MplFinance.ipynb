{
 "cells": [
  {
   "cell_type": "code",
   "execution_count": null,
   "metadata": {},
   "outputs": [],
   "source": [
    "%pip install yfinance\n",
    "%pip install mplfinance"
   ]
  },
  {
   "cell_type": "code",
   "execution_count": null,
   "metadata": {},
   "outputs": [],
   "source": [
    "import yfinance as yf\n",
    "import pandas as pd\n",
    "import numpy as np\n",
    "import matplotlib.pyplot as plt\n",
    "import mplfinance as mpf"
   ]
  },
  {
   "cell_type": "code",
   "execution_count": null,
   "metadata": {},
   "outputs": [],
   "source": [
    "df = yf.Ticker(\"BTC-USD\").history(period=\"max\")\n",
    "print(df)"
   ]
  },
  {
   "cell_type": "code",
   "execution_count": null,
   "metadata": {},
   "outputs": [],
   "source": [
    "class mpf_plot:\n",
    "    def __init__(self, df):\n",
    "        self.df = df\n",
    "\n",
    "    def basic_plot(self):\n",
    "        mpf.plot(self.df)\n",
    "        mpf.show()\n",
    "\n",
    "    def Type_plot(self):\n",
    "        mpf.plot(self.df, type ='candle')\n",
    "        mpf.plot(self.df, type = \"renko\")\n",
    "        mpf.plot(self.df, type = \"pnf\")\n",
    "        mpf.show()\n",
    "\n",
    "    def moving_avg50(self):\n",
    "        df['50ma'] = (df[\"Open\"].rolling(window = 50).mean()) / 1.5\n",
    "        apds = [mpf.make_addplot(df[\"50ma\"])]\n",
    "        mpf.plot(df, type = \"candle\", volume = True, addplot = apds)\n",
    "\n",
    "    def moving_avg200(self):\n",
    "        df['200ma'] = (df[\"Open\"].rolling(window = 200).mean()) / 1.5\n",
    "        apds = [mpf.make_addplot(df[\"200ma\"])]\n",
    "        mpf.plot(df, type = \"candle\", volume = True, addplot = apds)\n",
    "\n",
    "    def moving_avgMa(self):\n",
    "        df['ma'] = (df[\"Open\"].rolling(window = 50).mean()) * 1.5\n",
    "        apds = [mpf.make_addplot(df[\"50ma\", \"ma\"])]\n",
    "        mpf.plot(df, type = \"candle\", volume = True, addplot = apds)\n",
    "\n"
   ]
  },
  {
   "cell_type": "code",
   "execution_count": null,
   "metadata": {},
   "outputs": [],
   "source": [
    "mpf_plot(df).basic_plot()"
   ]
  },
  {
   "cell_type": "code",
   "execution_count": null,
   "metadata": {},
   "outputs": [],
   "source": [
    "mpf_plot(df).Type_plot()"
   ]
  },
  {
   "cell_type": "code",
   "execution_count": null,
   "metadata": {},
   "outputs": [],
   "source": [
    "mpf_plot(df).moving_avg50()"
   ]
  },
  {
   "cell_type": "code",
   "execution_count": null,
   "metadata": {},
   "outputs": [],
   "source": [
    "mpf_plot(df).moving_avg200()"
   ]
  },
  {
   "cell_type": "code",
   "execution_count": null,
   "metadata": {},
   "outputs": [],
   "source": [
    "mpf_plot(df).moving_avgMa()"
   ]
  }
 ],
 "metadata": {
  "kernelspec": {
   "display_name": "Python 3",
   "language": "python",
   "name": "python3"
  },
  "language_info": {
   "codemirror_mode": {
    "name": "ipython",
    "version": 3
   },
   "file_extension": ".py",
   "mimetype": "text/x-python",
   "name": "python",
   "nbconvert_exporter": "python",
   "pygments_lexer": "ipython3",
   "version": "3.12.2"
  }
 },
 "nbformat": 4,
 "nbformat_minor": 2
}
